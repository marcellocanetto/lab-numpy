{
 "cells": [
  {
   "cell_type": "markdown",
   "metadata": {},
   "source": [
    "# Intrduction to NumPy\n",
    "\n",
    "\n",
    "#### 1. Import NumPy under the name np."
   ]
  },
  {
   "cell_type": "code",
   "execution_count": 15,
   "metadata": {},
   "outputs": [],
   "source": [
    "import numpy as np"
   ]
  },
  {
   "cell_type": "markdown",
   "metadata": {},
   "source": [
    "#### 2. Print your NumPy version."
   ]
  },
  {
   "cell_type": "code",
   "execution_count": 16,
   "metadata": {},
   "outputs": [
    {
     "data": {
      "text/plain": [
       "'1.18.5'"
      ]
     },
     "execution_count": 16,
     "metadata": {},
     "output_type": "execute_result"
    }
   ],
   "source": [
    "np.version.version"
   ]
  },
  {
   "cell_type": "markdown",
   "metadata": {},
   "source": [
    "#### 3. Generate a 2x3x5 3-dimensional array with random values. Assign the array to variable *a*.\n",
    "**Challenge**: there are at least three easy ways that use numpy to generate random arrays. How many ways can you find?"
   ]
  },
  {
   "cell_type": "code",
   "execution_count": 17,
   "metadata": {},
   "outputs": [],
   "source": [
    "# Method 1\n",
    "a = np.random.random((2,3,5))"
   ]
  },
  {
   "cell_type": "code",
   "execution_count": 18,
   "metadata": {},
   "outputs": [],
   "source": [
    "# Method 2\n",
    "a2 = np.arange(30).reshape(2,3,5)\n",
    "#It is not really a random array, considering I decided the numbers, but maybe it is one of the methods you are looking for"
   ]
  },
  {
   "cell_type": "code",
   "execution_count": 19,
   "metadata": {},
   "outputs": [],
   "source": [
    "# Method 3\n",
    "a3 = np.random.rand(2,3,5)\n",
    "#I strongly suspect is the same function of the first method"
   ]
  },
  {
   "cell_type": "markdown",
   "metadata": {},
   "source": [
    "#### 4. Print *a*.\n"
   ]
  },
  {
   "cell_type": "code",
   "execution_count": 20,
   "metadata": {},
   "outputs": [
    {
     "name": "stdout",
     "output_type": "stream",
     "text": [
      "[[[0.34192085 0.16585709 0.59997836 0.27250456 0.22759037]\n",
      "  [0.23611526 0.90350282 0.79900103 0.28942695 0.46448583]\n",
      "  [0.02349381 0.35917735 0.47619923 0.38107009 0.35871348]]\n",
      "\n",
      " [[0.93044886 0.88211833 0.23196644 0.94700322 0.4433776 ]\n",
      "  [0.19206138 0.43381822 0.46105545 0.29125309 0.55982335]\n",
      "  [0.93047221 0.50727974 0.76443491 0.80181573 0.37742704]]]\n"
     ]
    }
   ],
   "source": [
    "print(a)"
   ]
  },
  {
   "cell_type": "markdown",
   "metadata": {},
   "source": [
    "#### 5. Create a 5x2x3 3-dimensional array with all values equaling 1. Assign the array to variable *b*."
   ]
  },
  {
   "cell_type": "code",
   "execution_count": 21,
   "metadata": {},
   "outputs": [],
   "source": [
    "b = np.ones((5,2,3))"
   ]
  },
  {
   "cell_type": "markdown",
   "metadata": {},
   "source": [
    "#### 6. Print *b*.\n"
   ]
  },
  {
   "cell_type": "code",
   "execution_count": 22,
   "metadata": {},
   "outputs": [
    {
     "name": "stdout",
     "output_type": "stream",
     "text": [
      "[[[1. 1. 1.]\n",
      "  [1. 1. 1.]]\n",
      "\n",
      " [[1. 1. 1.]\n",
      "  [1. 1. 1.]]\n",
      "\n",
      " [[1. 1. 1.]\n",
      "  [1. 1. 1.]]\n",
      "\n",
      " [[1. 1. 1.]\n",
      "  [1. 1. 1.]]\n",
      "\n",
      " [[1. 1. 1.]\n",
      "  [1. 1. 1.]]]\n"
     ]
    }
   ],
   "source": [
    "print(b)"
   ]
  },
  {
   "cell_type": "markdown",
   "metadata": {},
   "source": [
    "#### 7. Do *a* and *b* have the same size? How do you prove that in Python code?"
   ]
  },
  {
   "cell_type": "code",
   "execution_count": 23,
   "metadata": {},
   "outputs": [
    {
     "name": "stdout",
     "output_type": "stream",
     "text": [
      "30\n",
      "30\n"
     ]
    },
    {
     "data": {
      "text/plain": [
       "True"
      ]
     },
     "execution_count": 23,
     "metadata": {},
     "output_type": "execute_result"
    }
   ],
   "source": [
    "print(a.size)\n",
    "print(b.size)\n",
    "a.size == b.size"
   ]
  },
  {
   "cell_type": "markdown",
   "metadata": {},
   "source": [
    "#### 8. Are you able to add *a* and *b*? Why or why not?\n"
   ]
  },
  {
   "cell_type": "code",
   "execution_count": 24,
   "metadata": {},
   "outputs": [
    {
     "name": "stdout",
     "output_type": "stream",
     "text": [
      "(2, 3, 5)\n",
      "(5, 2, 3)\n"
     ]
    }
   ],
   "source": [
    "print(a.shape)\n",
    "print(b.shape)\n",
    "#cannot be added because of different shapes"
   ]
  },
  {
   "cell_type": "markdown",
   "metadata": {},
   "source": [
    "#### 9. Transpose *b* so that it has the same structure of *a* (i.e. become a 2x3x5 array). Assign the transposed array to variable *c*."
   ]
  },
  {
   "cell_type": "code",
   "execution_count": 25,
   "metadata": {},
   "outputs": [
    {
     "name": "stdout",
     "output_type": "stream",
     "text": [
      "[[[1. 1. 1. 1. 1.]\n",
      "  [1. 1. 1. 1. 1.]\n",
      "  [1. 1. 1. 1. 1.]]\n",
      "\n",
      " [[1. 1. 1. 1. 1.]\n",
      "  [1. 1. 1. 1. 1.]\n",
      "  [1. 1. 1. 1. 1.]]]\n"
     ]
    },
    {
     "data": {
      "text/plain": [
       "(2, 3, 5)"
      ]
     },
     "execution_count": 25,
     "metadata": {},
     "output_type": "execute_result"
    }
   ],
   "source": [
    "c = np.transpose(b).reshape(2,3,5)\n",
    "print(c)\n",
    "c.shape"
   ]
  },
  {
   "cell_type": "markdown",
   "metadata": {},
   "source": [
    "#### 10. Try to add *a* and *c*. Now it should work. Assign the sum to variable *d*. But why does it work now?"
   ]
  },
  {
   "cell_type": "code",
   "execution_count": 26,
   "metadata": {},
   "outputs": [
    {
     "name": "stdout",
     "output_type": "stream",
     "text": [
      "[[[1.34192085 1.16585709 1.59997836 1.27250456 1.22759037]\n",
      "  [1.23611526 1.90350282 1.79900103 1.28942695 1.46448583]\n",
      "  [1.02349381 1.35917735 1.47619923 1.38107009 1.35871348]]\n",
      "\n",
      " [[1.93044886 1.88211833 1.23196644 1.94700322 1.4433776 ]\n",
      "  [1.19206138 1.43381822 1.46105545 1.29125309 1.55982335]\n",
      "  [1.93047221 1.50727974 1.76443491 1.80181573 1.37742704]]]\n",
      "(2, 3, 5)\n",
      "(2, 3, 5)\n"
     ]
    }
   ],
   "source": [
    "d = np.add(a,c)\n",
    "print(d)\n",
    "#it works because both array a and c have the same shape\n",
    "print(a.shape)\n",
    "print(c.shape)"
   ]
  },
  {
   "cell_type": "markdown",
   "metadata": {},
   "source": [
    "#### 11. Print *a* and *d*. Notice the difference and relation of the two array in terms of the values? Explain."
   ]
  },
  {
   "cell_type": "code",
   "execution_count": 27,
   "metadata": {},
   "outputs": [
    {
     "name": "stdout",
     "output_type": "stream",
     "text": [
      "[[[0.34192085 0.16585709 0.59997836 0.27250456 0.22759037]\n",
      "  [0.23611526 0.90350282 0.79900103 0.28942695 0.46448583]\n",
      "  [0.02349381 0.35917735 0.47619923 0.38107009 0.35871348]]\n",
      "\n",
      " [[0.93044886 0.88211833 0.23196644 0.94700322 0.4433776 ]\n",
      "  [0.19206138 0.43381822 0.46105545 0.29125309 0.55982335]\n",
      "  [0.93047221 0.50727974 0.76443491 0.80181573 0.37742704]]]\n",
      "\n",
      "[[[1.34192085 1.16585709 1.59997836 1.27250456 1.22759037]\n",
      "  [1.23611526 1.90350282 1.79900103 1.28942695 1.46448583]\n",
      "  [1.02349381 1.35917735 1.47619923 1.38107009 1.35871348]]\n",
      "\n",
      " [[1.93044886 1.88211833 1.23196644 1.94700322 1.4433776 ]\n",
      "  [1.19206138 1.43381822 1.46105545 1.29125309 1.55982335]\n",
      "  [1.93047221 1.50727974 1.76443491 1.80181573 1.37742704]]]\n"
     ]
    }
   ],
   "source": [
    "print(a)\n",
    "print()\n",
    "print(d)\n",
    "#the values of d are the values of a+1 because we summed a randomly created array with an array filled with 1"
   ]
  },
  {
   "cell_type": "markdown",
   "metadata": {},
   "source": [
    "#### 12. Multiply *a* and *c*. Assign the result to *e*."
   ]
  },
  {
   "cell_type": "code",
   "execution_count": 28,
   "metadata": {},
   "outputs": [
    {
     "name": "stdout",
     "output_type": "stream",
     "text": [
      "[[[0.34192085 0.16585709 0.59997836 0.27250456 0.22759037]\n",
      "  [0.23611526 0.90350282 0.79900103 0.28942695 0.46448583]\n",
      "  [0.02349381 0.35917735 0.47619923 0.38107009 0.35871348]]\n",
      "\n",
      " [[0.93044886 0.88211833 0.23196644 0.94700322 0.4433776 ]\n",
      "  [0.19206138 0.43381822 0.46105545 0.29125309 0.55982335]\n",
      "  [0.93047221 0.50727974 0.76443491 0.80181573 0.37742704]]]\n"
     ]
    }
   ],
   "source": [
    "e = np.multiply(a,c)\n",
    "print(e)"
   ]
  },
  {
   "cell_type": "markdown",
   "metadata": {},
   "source": [
    "#### 13. Does *e* equal to *a*? Why or why not?\n"
   ]
  },
  {
   "cell_type": "code",
   "execution_count": 29,
   "metadata": {},
   "outputs": [
    {
     "name": "stdout",
     "output_type": "stream",
     "text": [
      "[[[0.34192085 0.16585709 0.59997836 0.27250456 0.22759037]\n",
      "  [0.23611526 0.90350282 0.79900103 0.28942695 0.46448583]\n",
      "  [0.02349381 0.35917735 0.47619923 0.38107009 0.35871348]]\n",
      "\n",
      " [[0.93044886 0.88211833 0.23196644 0.94700322 0.4433776 ]\n",
      "  [0.19206138 0.43381822 0.46105545 0.29125309 0.55982335]\n",
      "  [0.93047221 0.50727974 0.76443491 0.80181573 0.37742704]]]\n",
      "\n",
      "[[[0.34192085 0.16585709 0.59997836 0.27250456 0.22759037]\n",
      "  [0.23611526 0.90350282 0.79900103 0.28942695 0.46448583]\n",
      "  [0.02349381 0.35917735 0.47619923 0.38107009 0.35871348]]\n",
      "\n",
      " [[0.93044886 0.88211833 0.23196644 0.94700322 0.4433776 ]\n",
      "  [0.19206138 0.43381822 0.46105545 0.29125309 0.55982335]\n",
      "  [0.93047221 0.50727974 0.76443491 0.80181573 0.37742704]]]\n"
     ]
    },
    {
     "data": {
      "text/plain": [
       "array([[[ True,  True,  True,  True,  True],\n",
       "        [ True,  True,  True,  True,  True],\n",
       "        [ True,  True,  True,  True,  True]],\n",
       "\n",
       "       [[ True,  True,  True,  True,  True],\n",
       "        [ True,  True,  True,  True,  True],\n",
       "        [ True,  True,  True,  True,  True]]])"
      ]
     },
     "execution_count": 29,
     "metadata": {},
     "output_type": "execute_result"
    }
   ],
   "source": [
    "print(a)\n",
    "print()\n",
    "print(e)\n",
    "a == e\n",
    "#they are indeed equal because: a is the first randomly created array but e=a*c with c filled by all 1, so it is like a*1 = a"
   ]
  },
  {
   "cell_type": "markdown",
   "metadata": {},
   "source": [
    "#### 14. Identify the max, min, and mean values in *d*. Assign those values to variables *d_max*, *d_min* and *d_mean*."
   ]
  },
  {
   "cell_type": "code",
   "execution_count": 30,
   "metadata": {},
   "outputs": [
    {
     "name": "stdout",
     "output_type": "stream",
     "text": [
      "1.9470032188034767\n",
      "1.023493812166682\n",
      "1.4884464216414124\n"
     ]
    }
   ],
   "source": [
    "d_max = np.max(d)\n",
    "d_min = np.min(d)\n",
    "d_mean = np.mean(d)\n",
    "print(d_max)\n",
    "print(d_min)\n",
    "print(d_mean)"
   ]
  },
  {
   "cell_type": "markdown",
   "metadata": {},
   "source": [
    "#### 15. Now we want to label the values in *d*. First create an empty array *f* with the same shape (i.e. 2x3x5) as *d* using `np.empty`.\n"
   ]
  },
  {
   "cell_type": "code",
   "execution_count": 31,
   "metadata": {},
   "outputs": [],
   "source": [
    "f = np.empty((2,3,5))"
   ]
  },
  {
   "cell_type": "markdown",
   "metadata": {},
   "source": [
    "#### 16. Populate the values in *f*. \n",
    "\n",
    "For each value in *d*, if it's larger than *d_min* but smaller than *d_mean*, assign 25 to the corresponding value in *f*. If a value in *d* is larger than *d_mean* but smaller than *d_max*, assign 75 to the corresponding value in *f*. If a value equals to *d_mean*, assign 50 to the corresponding value in *f*. Assign 0 to the corresponding value(s) in *f* for *d_min* in *d*. Assign 100 to the corresponding value(s) in *f* for *d_max* in *d*. In the end, f should have only the following values: 0, 25, 50, 75, and 100.\n",
    "\n",
    "**Note**: you don't have to use Numpy in this question."
   ]
  },
  {
   "cell_type": "code",
   "execution_count": 32,
   "metadata": {},
   "outputs": [],
   "source": [
    "f = np.where(d == d_max, 100, f)\n",
    "f = np.where(d < d_max, 75, f)\n",
    "f = np.where(d == d_mean, 50, f)\n",
    "f = np.where(d < d_mean, 25, f)\n",
    "f = np.where(d == d_min, 0, f)"
   ]
  },
  {
   "cell_type": "markdown",
   "metadata": {},
   "source": [
    "#### 17. Print *d* and *f*. Do you have your expected *f*?\n",
    "For instance, if your *d* is:\n",
    "```python\n",
    "[[[1.85836099, 1.67064465, 1.62576044, 1.40243961, 1.88454931],\n",
    "[1.75354326, 1.69403643, 1.36729252, 1.61415071, 1.12104981],\n",
    "[1.72201435, 1.1862918 , 1.87078449, 1.7726778 , 1.88180042]],\n",
    "[[1.44747908, 1.31673383, 1.02000951, 1.52218947, 1.97066381],\n",
    "[1.79129243, 1.74983003, 1.96028037, 1.85166831, 1.65450881],\n",
    "[1.18068344, 1.9587381 , 1.00656599, 1.93402165, 1.73514584]]]\n",
    "```\n",
    "Your *f* should be:\n",
    "```python\n",
    "[[[ 75.,  75.,  75.,  25.,  75.],\n",
    "[ 75.,  75.,  25.,  25.,  25.],\n",
    "[ 75.,  25.,  75.,  75.,  75.]],\n",
    "[[ 25.,  25.,  25.,  25., 100.],\n",
    "[ 75.,  75.,  75.,  75.,  75.],\n",
    "[ 25.,  75.,   0.,  75.,  75.]]]\n",
    "```"
   ]
  },
  {
   "cell_type": "code",
   "execution_count": 33,
   "metadata": {},
   "outputs": [
    {
     "name": "stdout",
     "output_type": "stream",
     "text": [
      "[[[ 25.  25.  75.  25.  25.]\n",
      "  [ 25.  75.  75.  25.  25.]\n",
      "  [  0.  25.  25.  25.  25.]]\n",
      "\n",
      " [[ 75.  75.  25. 100.  25.]\n",
      "  [ 25.  25.  25.  25.  75.]\n",
      "  [ 75.  75.  75.  75.  25.]]]\n",
      "\n",
      "[[[1.34192085 1.16585709 1.59997836 1.27250456 1.22759037]\n",
      "  [1.23611526 1.90350282 1.79900103 1.28942695 1.46448583]\n",
      "  [1.02349381 1.35917735 1.47619923 1.38107009 1.35871348]]\n",
      "\n",
      " [[1.93044886 1.88211833 1.23196644 1.94700322 1.4433776 ]\n",
      "  [1.19206138 1.43381822 1.46105545 1.29125309 1.55982335]\n",
      "  [1.93047221 1.50727974 1.76443491 1.80181573 1.37742704]]]\n"
     ]
    }
   ],
   "source": [
    "print(f)\n",
    "print()\n",
    "print(d)"
   ]
  },
  {
   "cell_type": "markdown",
   "metadata": {},
   "source": [
    "#### 18. Bonus question: instead of using numbers (i.e. 0, 25, 50, 75, and 100), use string values  (\"A\", \"B\", \"C\", \"D\", and \"E\") to label the array elements. For the example above, the expected result is:\n",
    "\n",
    "```python\n",
    "[[[ 'D',  'D',  'D',  'B',  'D'],\n",
    "[ 'D',  'D',  'B',  'B',  'B'],\n",
    "[ 'D',  'B',  'D',  'D',  'D']],\n",
    "[[ 'B',  'B',  'B',  'B',  'E'],\n",
    "[ 'D',  'D',  'D',  'D',  'D'],\n",
    "[ 'B',  'D',   'A',  'D', 'D']]]\n",
    "```\n",
    "**Note**: you don't have to use Numpy in this question."
   ]
  },
  {
   "cell_type": "code",
   "execution_count": 34,
   "metadata": {},
   "outputs": [],
   "source": [
    "f = np.where(d == d_max, 'E', f)\n",
    "f = np.where(d < d_max, 'D', f)\n",
    "f = np.where(d == d_mean, 'C', f)\n",
    "f = np.where(d < d_mean, 'B', f)\n",
    "f = np.where(d == d_min, \"A\", f)"
   ]
  },
  {
   "cell_type": "code",
   "execution_count": 35,
   "metadata": {},
   "outputs": [
    {
     "name": "stdout",
     "output_type": "stream",
     "text": [
      "[[['B' 'B' 'D' 'B' 'B']\n",
      "  ['B' 'D' 'D' 'B' 'B']\n",
      "  ['A' 'B' 'B' 'B' 'B']]\n",
      "\n",
      " [['D' 'D' 'B' 'E' 'B']\n",
      "  ['B' 'B' 'B' 'B' 'D']\n",
      "  ['D' 'D' 'D' 'D' 'B']]]\n",
      "\n",
      "[[[1.34192085 1.16585709 1.59997836 1.27250456 1.22759037]\n",
      "  [1.23611526 1.90350282 1.79900103 1.28942695 1.46448583]\n",
      "  [1.02349381 1.35917735 1.47619923 1.38107009 1.35871348]]\n",
      "\n",
      " [[1.93044886 1.88211833 1.23196644 1.94700322 1.4433776 ]\n",
      "  [1.19206138 1.43381822 1.46105545 1.29125309 1.55982335]\n",
      "  [1.93047221 1.50727974 1.76443491 1.80181573 1.37742704]]]\n"
     ]
    }
   ],
   "source": [
    "print(f)\n",
    "print()\n",
    "print(d)"
   ]
  }
 ],
 "metadata": {
  "kernelspec": {
   "display_name": "Python 3",
   "language": "python",
   "name": "python3"
  },
  "language_info": {
   "codemirror_mode": {
    "name": "ipython",
    "version": 3
   },
   "file_extension": ".py",
   "mimetype": "text/x-python",
   "name": "python",
   "nbconvert_exporter": "python",
   "pygments_lexer": "ipython3",
   "version": "3.8.3"
  }
 },
 "nbformat": 4,
 "nbformat_minor": 4
}
